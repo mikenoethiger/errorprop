{
 "cells": [
  {
   "cell_type": "code",
   "execution_count": 1,
   "outputs": [],
   "source": [
    "from errorprop import *"
   ],
   "metadata": {
    "collapsed": false,
    "pycharm": {
     "name": "#%%\n"
    }
   }
  },
  {
   "cell_type": "markdown",
   "source": [
    "# Introduction"
   ],
   "metadata": {
    "collapsed": false,
    "pycharm": {
     "name": "#%% md\n"
    }
   }
  },
  {
   "cell_type": "markdown",
   "source": [
    "In this jupyter notebook we'll look at how to work with `Quantity`, `MeasuredQuantity` and `DerivedQuantity` which are the basic building blocks. We'll see how to translate lab data into python code and how to do maths with automatic error propagation. Finally, we'll see how to handle many quantities at once and how to take weighted averages."
   ],
   "metadata": {
    "collapsed": false,
    "pycharm": {
     "name": "#%% md\n"
    }
   }
  },
  {
   "cell_type": "markdown",
   "source": [
    "# What is a Quantity?"
   ],
   "metadata": {
    "collapsed": false,
    "pycharm": {
     "name": "#%% md\n"
    }
   }
  },
  {
   "cell_type": "markdown",
   "source": [
    "Measurements from the lab are represented by three numbers:\n",
    "1. $x$ value of measurement\n",
    "2. $\\Delta x_{sys}$ systematic error (precision)\n",
    "3. $\\Delta x_{stat}$ statistical error (accuracy)\n",
    "\n",
    "This set of three numbers we call a `Quantity`.\n",
    "\n",
    "**Example:** We measure the period of an oscillation three times and get (2.77, 2.81, 2.93) seconds which is on average 2.83s. The clock used for the measurement has a precision of 1 second, so we estimate the systematic error as 0.5s. The statistical error corresponds to $\\frac{2 \\sigma}{\\sqrt{n}} = 0.08$s with $\\sigma$ the standard deviation and $n=3$ the number of measurements (see [IF0](https://www.ap.physik.unibas.ch/PDF/Manuals/German/IF0.pdf) \"statistischer Fehler des Mittelwerts\"). Hence the quantity $T$ (period) which we have measured in the lab is written as follows:\n",
    "\n",
    "$$\n",
    "T = (2.83 \\pm 0.50 \\pm 0.08)s\n",
    "$$\n",
    "\n",
    "To represent this in code we use the `Quantity` object:"
   ],
   "metadata": {
    "collapsed": false,
    "pycharm": {
     "name": "#%% md\n"
    }
   }
  },
  {
   "cell_type": "code",
   "execution_count": 2,
   "outputs": [
    {
     "name": "stdout",
     "output_type": "stream",
     "text": [
      "2.83 ± 0.5 ± 0.08\n"
     ]
    }
   ],
   "source": [
    "T = Quantity(value=2.83, err_sys=0.5, err_stat=0.08)\n",
    "print(T)"
   ],
   "metadata": {
    "collapsed": false,
    "pycharm": {
     "name": "#%%\n"
    }
   }
  },
  {
   "cell_type": "markdown",
   "source": [
    "`Quantity` is the basic building block. Everything is a quantity – but there are \"sub-categories\" such as the `MeasuredQuantity` and the `DerivedQuantity`. In the following we'll have a closer look at these and how to work with them. We'll see how do maths with quantities and how to take care of error propagation."
   ],
   "metadata": {
    "collapsed": false,
    "pycharm": {
     "name": "#%% md\n"
    }
   }
  },
  {
   "cell_type": "markdown",
   "source": [
    "## Measured Quantity\n",
    "\n",
    "The measured quantity is received from the lab by measuring multiple times. Let's say you measure the period $T$ of a pendulum multiple times and let's say you have estimated the systematic error as $\\Delta T_{sys} = 0.3$s\n",
    "\n",
    "This would translate into code as follows:"
   ],
   "metadata": {
    "collapsed": false,
    "pycharm": {
     "name": "#%% md\n"
    }
   }
  },
  {
   "cell_type": "code",
   "execution_count": 3,
   "outputs": [
    {
     "name": "stdout",
     "output_type": "stream",
     "text": [
      "2.809 ± 0.3 ± 0.1\n",
      "Data\t [2.77 2.81 2.93 2.95 2.49 2.81 2.95 2.76]\n",
      "Value\t 2.8087500000000003\n",
      "Err Stat 0.10002734001261855\n",
      "Err Sys\t 0.3\n"
     ]
    }
   ],
   "source": [
    "measurements = np.array([2.77,2.81,2.93,2.95,2.49,2.81,2.95,2.76])\n",
    "T = MeasuredQuantity(measurements, err_sys=0.3)\n",
    "print(T)\n",
    "print('Data\\t', T.measurements)\n",
    "print('Value\\t', T.value)\n",
    "print('Err Stat', T.err_stat)\n",
    "print('Err Sys\\t', T.err_sys)"
   ],
   "metadata": {
    "collapsed": false,
    "pycharm": {
     "name": "#%%\n"
    }
   }
  },
  {
   "cell_type": "markdown",
   "source": [
    "The `MeasuredQuantity` receives a list of measurements and calculates mean and stat error automatically. You can access individual information by the following properties\n",
    "* `T.measurements` (underlying data)\n",
    "* `T.value` (mean value)\n",
    "* `T.err_stat` and `T.err_sys` (errors)\n",
    "\n",
    "By default, the 2-sigma confidence interval is taken as statistical error. Recall from [IF0](https://www.ap.physik.unibas.ch/PDF/Manuals/German/IF0.pdf):\n",
    "* $1\\sigma$ confidence interval includes 68.6% of all measurements\n",
    "* $2\\sigma$ confidence interval includes 95.4% of all measurements\n",
    "* $3\\sigma$ confidence interval includes 99.7% of all measurements\n",
    "\n",
    "You can change this with the `sigma_interval` argument:"
   ],
   "metadata": {
    "collapsed": false,
    "pycharm": {
     "name": "#%% md\n"
    }
   }
  },
  {
   "cell_type": "code",
   "execution_count": 4,
   "outputs": [
    {
     "name": "stdout",
     "output_type": "stream",
     "text": [
      "2.809 ± 0.3 ± 0.15\n"
     ]
    }
   ],
   "source": [
    "T = MeasuredQuantity(measurements, err_sys=0.3, sigma_interval=3)\n",
    "print(T)"
   ],
   "metadata": {
    "collapsed": false,
    "pycharm": {
     "name": "#%%\n"
    }
   }
  },
  {
   "cell_type": "markdown",
   "source": [
    "Sometimes you know the value and errors of a quantity right away without having to take the mean over many measurements. This is the case for example if you measure something only once. For this you use the `Quantity` object.\n",
    "\n",
    "Let's say you have measured the length $l$ of the pendulum to be 1.84m with a systematic error $\\Delta l_{sys} = 0.7$cm and no statistical error.\n",
    "\n",
    "This translates into code as follows:"
   ],
   "metadata": {
    "collapsed": false,
    "pycharm": {
     "name": "#%% md\n"
    }
   }
  },
  {
   "cell_type": "code",
   "execution_count": 5,
   "outputs": [
    {
     "name": "stdout",
     "output_type": "stream",
     "text": [
      "1.84 ± 0.007\n"
     ]
    }
   ],
   "source": [
    "l = Quantity(1.84, err_sys=0.7E-2, err_stat=0)\n",
    "print(l)"
   ],
   "metadata": {
    "collapsed": false,
    "pycharm": {
     "name": "#%%\n"
    }
   }
  },
  {
   "cell_type": "markdown",
   "source": [
    "**Note**: `0.7E-2` in python means $0.7 \\cdot 10^{-2}$.\n",
    "\n",
    "**Note**: `MeasuredQuantity` is a type of `Quantity`, moreover `Quantity` is the general case and `MeasuredQuantity` is a special case. The `MeasuredQuantity` simply does the calculation of mean and statistical error automatically."
   ],
   "metadata": {
    "collapsed": false,
    "pycharm": {
     "name": "#%% md\n"
    }
   }
  },
  {
   "cell_type": "markdown",
   "source": [
    "## Derived Quantity\n",
    "\n",
    "The derived quantity is a function of other quantities: $Q = f(q_1, ..., q_N)$. The statistical and systematic errors of $Q$ result from the errors of the underlying $q_i$ and derivatives of $f$ with respect to $q_i$. E.g. systematic error ([IF0](https://www.ap.physik.unibas.ch/PDF/Manuals/German/IF0.pdf)):\n",
    "\n",
    "$$\n",
    "\\Delta Q_{sys} = \\left| \\frac{\\partial f}{\\partial q_1} \\Delta q_1  + ... + \\frac{\\partial f}{\\partial q_n} \\Delta q_n \\right|\n",
    "$$\n",
    "\n",
    "**Example**: We want to calculate the gravitational acceleration $g$ based on the period and length measurements for which we use the following equation:\n",
    "\n",
    "$$\n",
    "g = \\frac{4\\pi^2 l}{T^2}\n",
    "$$\n",
    "\n",
    "In that case $g$ is a derived quantity, i.e. a function of $l$ and $T$ which themselves are quantities with errors.\n",
    "\n",
    "For error calculation we need the following derivatives:\n",
    "\n",
    "$$\n",
    "\\frac{\\partial g}{\\partial l} = \\frac{4 \\pi^2}{T^2} \\quad \\quad\n",
    "\\frac{\\partial g}{\\partial T} = -\\frac{8 \\pi^2 l}{T^3}\n",
    "$$\n",
    "\n",
    "This translates to code using the `DerivedQuantity` object:"
   ],
   "metadata": {
    "collapsed": false,
    "pycharm": {
     "name": "#%% md\n"
    }
   }
  },
  {
   "cell_type": "code",
   "execution_count": 6,
   "outputs": [
    {
     "name": "stdout",
     "output_type": "stream",
     "text": [
      "9.208 ± 2.002 ± 0.984\n"
     ]
    }
   ],
   "source": [
    "g = lambda l, T: 4*np.pi**2*l/T**2\n",
    "# partial derivatives\n",
    "g_l = lambda l, T: 4*np.pi**2/T**2\n",
    "g_T = lambda l, T: -8*np.pi**2*l/T**3\n",
    "G = DerivedQuantity(value_function=g, partial_derivatives=[g_l, g_T], args=[l, T])\n",
    "print(G)"
   ],
   "metadata": {
    "collapsed": false,
    "pycharm": {
     "name": "#%%\n"
    }
   }
  },
  {
   "cell_type": "markdown",
   "source": [
    "**Note**: `np.pi` represents $\\pi$ in python (numpy) and `a**b` is the general notation for $a^b$ in python.\n",
    "\n",
    "**Note**: `g = lambda l, T: 4*np.pi**2*l/T**2` is short for\n",
    "```python\n",
    "def g(l, T):\n",
    "  return 4*np.pi**2*l/T**2\n",
    "```\n",
    "\n",
    "The `DerivedQuantity` takes care to do error propagation for statistical and systematic errors by using the provided partial derivatives and looking at the errors of the quantities passed as arguments."
   ],
   "metadata": {
    "collapsed": false,
    "pycharm": {
     "name": "#%% md\n"
    }
   }
  },
  {
   "cell_type": "markdown",
   "source": [
    "# Basic Arithmetics with Quantities\n",
    "\n",
    "Previously we have looked at how to calculate the value of the derived quantity $g$ (gravitational acceleration) from other quantities $l$ (pendulum length) and $T$ (period). By providing the partial derivatives we were able to get the corresponding error propagations for $g$.\n",
    "\n",
    "**Motivation**: Can we do error propagation automatic without providing partial derivatives?\n",
    "\n",
    "**Idea**: Solve error propagation for basic arithmetics (addition, subtraction, etc.) Most function will just be combinations of these.\n",
    "\n",
    "Consider the function for addition $a(x,y) = x+y$ it has partial derivatives $a_x = a_y = 1$. Given $x$ and $y$ are quantities we have the following systematic error using error propagation\n",
    "\n",
    "$$\n",
    "\\Delta a_{sys} = \\left| 1 \\cdot \\Delta x_{sys} \\right| + \\left| 1 \\cdot \\Delta y_{sys} \\right|\n",
    "$$\n",
    "\n",
    "We can translate this into code as a derived quantity (defining quantities $x$ and $y$ with random values)"
   ],
   "metadata": {
    "collapsed": false,
    "pycharm": {
     "name": "#%% md\n"
    }
   }
  },
  {
   "cell_type": "code",
   "execution_count": 7,
   "outputs": [
    {
     "name": "stdout",
     "output_type": "stream",
     "text": [
      "5 ± 0.8 ± 1.14\n"
     ]
    }
   ],
   "source": [
    "x = Quantity(1,err_sys=0.5,err_stat=0.7)\n",
    "y = Quantity(4,err_sys=0.3,err_stat=0.9)\n",
    "a = lambda x, y: x+y\n",
    "# partial derivatives\n",
    "a_x = lambda x, y: 1\n",
    "a_y = lambda x, y: 1\n",
    "# here A represents simply the addition x+y including error propagation from x and y\n",
    "A = DerivedQuantity(value_function=a, partial_derivatives=[a_x, a_y], args=[x, y])\n",
    "print(A)"
   ],
   "metadata": {
    "collapsed": false,
    "pycharm": {
     "name": "#%%\n"
    }
   }
  },
  {
   "cell_type": "markdown",
   "source": [
    "So whenever we add two quantities we know how to do error propagation because the function (addition) is known, as well as its derivatives. What about automating this process? Using python operator overloading we can define the addition operation on the `Quantity` object and we can configure it in such a way, that it returns a `DerivedQuantity` just as above.\n",
    "\n",
    "What we want to achieve is the following:\n",
    "```\n",
    "x = Quantity(...) or MeasuredQuantity(...) or DerivedQuantity(...)\n",
    "y = Quantity(...) or MeasuredQuantity(...) or DerivedQuantity(...)\n",
    "z = x+y = DerivedQuantity (with automatic error propagation)\n",
    "```\n",
    "\n",
    "And then we do the same for subtraction, multiplication, division and exponential ($a^b$). If we provide the code to create a DerivedQuantity for all of the basic arithmetic operations we are able to do basic maths on quantities while keeping track of error propagation.\n",
    "\n",
    "This has been done in the `Quantity` python class (see code for details). Now we can simplify the calculation of gravitational acceleration as follows:"
   ],
   "metadata": {
    "collapsed": false,
    "pycharm": {
     "name": "#%% md\n"
    }
   }
  },
  {
   "cell_type": "code",
   "execution_count": 8,
   "outputs": [
    {
     "name": "stdout",
     "output_type": "stream",
     "text": [
      "9.208 ± 2.002 ± 0.984\n"
     ]
    }
   ],
   "source": [
    "G = 4*np.pi**2*l/T**2\n",
    "print(G)"
   ],
   "metadata": {
    "collapsed": false,
    "pycharm": {
     "name": "#%%\n"
    }
   }
  },
  {
   "cell_type": "markdown",
   "source": [
    "Note that we get the same result as with the `DerivedQuantity` approach."
   ],
   "metadata": {
    "collapsed": false,
    "pycharm": {
     "name": "#%% md\n"
    }
   }
  },
  {
   "cell_type": "markdown",
   "source": [
    "# Dealing with a list of quantities\n",
    "\n",
    "Sometimes you need to work with a list of quantities. This is most certainly the case when you take measurements of a varying parameter. Let's say you make voltage measurements and increase the voltage each time. So you don't want to take the average over these voltages and represent it as one quantity (as you would do using `MeasuredQuantity`), rather each measurement should represent a quantity, so you have a list of quantities.\n",
    "\n",
    "You could do this as follows:"
   ],
   "metadata": {
    "collapsed": false,
    "pycharm": {
     "name": "#%% md\n"
    }
   }
  },
  {
   "cell_type": "code",
   "execution_count": 9,
   "outputs": [
    {
     "data": {
      "text/plain": "array([292.4 ± 1, 260 ± 1, 231 ± 1], dtype=object)"
     },
     "execution_count": 9,
     "metadata": {},
     "output_type": "execute_result"
    }
   ],
   "source": [
    "err_sys = 1\n",
    "V = np.array([Quantity(292.4, err_sys), Quantity(260, err_sys), Quantity(231, err_sys)])\n",
    "V"
   ],
   "metadata": {
    "collapsed": false,
    "pycharm": {
     "name": "#%%\n"
    }
   }
  },
  {
   "cell_type": "markdown",
   "source": [
    "That's very tedious... So there's a shortcut! Use the `create_list_of_quantities` function:"
   ],
   "metadata": {
    "collapsed": false,
    "pycharm": {
     "name": "#%% md\n"
    }
   }
  },
  {
   "cell_type": "code",
   "execution_count": 10,
   "outputs": [
    {
     "data": {
      "text/plain": "array([292.4 ± 1, 260.0 ± 1, 231.0 ± 1], dtype=object)"
     },
     "execution_count": 10,
     "metadata": {},
     "output_type": "execute_result"
    }
   ],
   "source": [
    "# as you see you could also specify a statistical error\n",
    "V = create_list_of_quantities(np.array([292.4, 260, 231]), err_sys=1, err_stat=0)\n",
    "V"
   ],
   "metadata": {
    "collapsed": false,
    "pycharm": {
     "name": "#%%\n"
    }
   }
  },
  {
   "cell_type": "markdown",
   "source": [
    "Previously you have specified one value for `err_sys` which is populated to alle measurements.\n",
    "If you have individual errors for each measurement, you can also pass a list of errors (one for each measurement)\n",
    "Let's say the multimeter has specified 2% error in the specs, you could achieve that as follows:"
   ],
   "metadata": {
    "collapsed": false,
    "pycharm": {
     "name": "#%% md\n"
    }
   }
  },
  {
   "cell_type": "code",
   "execution_count": 11,
   "outputs": [
    {
     "data": {
      "text/plain": "array([292.4 ± 5.848, 260.0 ± 5.2, 231.0 ± 4.62], dtype=object)"
     },
     "execution_count": 11,
     "metadata": {},
     "output_type": "execute_result"
    }
   ],
   "source": [
    "voltages = np.array([292.4, 260, 231])\n",
    "V = create_list_of_quantities(voltages, err_sys=voltages*0.02)\n",
    "V"
   ],
   "metadata": {
    "collapsed": false,
    "pycharm": {
     "name": "#%%\n"
    }
   }
  },
  {
   "cell_type": "markdown",
   "source": [
    "You can do maths on the list of quantities as well. The operations will be \"propagated\" to each individual quantities.\n",
    "Let's do some random math on the voltages $e^{\\frac{\\sqrt{V}}{2}-5}$:"
   ],
   "metadata": {
    "collapsed": false,
    "pycharm": {
     "name": "#%% md\n"
    }
   }
  },
  {
   "cell_type": "code",
   "execution_count": 12,
   "outputs": [
    {
     "data": {
      "text/plain": "array([34.808 ± 2.976, 21.376 ± 1.723, 13.455 ± 1.022], dtype=object)"
     },
     "execution_count": 12,
     "metadata": {},
     "output_type": "execute_result"
    }
   ],
   "source": [
    "np.exp(np.sqrt(V)/2-5)"
   ],
   "metadata": {
    "collapsed": false,
    "pycharm": {
     "name": "#%%\n"
    }
   }
  },
  {
   "cell_type": "markdown",
   "source": [
    "Technically speaking `V` is a list of `Quantity` objects. In general that should not bother as you can handle them as if they were numbers. But if you ever need access to the numeric data type, you can do as follows:"
   ],
   "metadata": {
    "collapsed": false,
    "pycharm": {
     "name": "#%% md\n"
    }
   }
  },
  {
   "cell_type": "code",
   "execution_count": 13,
   "outputs": [
    {
     "name": "stdout",
     "output_type": "stream",
     "text": [
      "[292.4 260.  231. ]\n",
      "<class 'errorprop.Quantity'>\n",
      "<class 'numpy.float64'>\n"
     ]
    }
   ],
   "source": [
    "# access underlying data\n",
    "values = q_value(V)\n",
    "print(values)\n",
    "# compare the types...\n",
    "print(type(V[0]))\n",
    "print(type(values[0]))\n",
    "# or if you need access to sys and stat error:\n",
    "# q_sys_error(V)\n",
    "# q_stat_error(V)"
   ],
   "metadata": {
    "collapsed": false,
    "pycharm": {
     "name": "#%%\n"
    }
   }
  },
  {
   "cell_type": "markdown",
   "source": [
    "# Reading Data From Excel\n",
    "\n",
    "Instead of copying the data into python code you can also import directly from excel using the [pandas](https://pandas.pydata.org/) library.\n",
    "\n",
    "The following code reads the data from `sample_measurements.xlsx` into a DataFrame, which is pandas representation for a spreadsheet. The sheet contains voltage and diameter [cm] measurements."
   ],
   "metadata": {
    "collapsed": false,
    "pycharm": {
     "name": "#%% md\n"
    }
   }
  },
  {
   "cell_type": "code",
   "execution_count": 14,
   "outputs": [
    {
     "data": {
      "text/plain": "       V    d\n0  292.4  7.9\n1  260.0  7.3\n2  231.4  7.6\n3  201.3  6.9\n4  171.2  6.0",
      "text/html": "<div>\n<style scoped>\n    .dataframe tbody tr th:only-of-type {\n        vertical-align: middle;\n    }\n\n    .dataframe tbody tr th {\n        vertical-align: top;\n    }\n\n    .dataframe thead th {\n        text-align: right;\n    }\n</style>\n<table border=\"1\" class=\"dataframe\">\n  <thead>\n    <tr style=\"text-align: right;\">\n      <th></th>\n      <th>V</th>\n      <th>d</th>\n    </tr>\n  </thead>\n  <tbody>\n    <tr>\n      <th>0</th>\n      <td>292.4</td>\n      <td>7.9</td>\n    </tr>\n    <tr>\n      <th>1</th>\n      <td>260.0</td>\n      <td>7.3</td>\n    </tr>\n    <tr>\n      <th>2</th>\n      <td>231.4</td>\n      <td>7.6</td>\n    </tr>\n    <tr>\n      <th>3</th>\n      <td>201.3</td>\n      <td>6.9</td>\n    </tr>\n    <tr>\n      <th>4</th>\n      <td>171.2</td>\n      <td>6.0</td>\n    </tr>\n  </tbody>\n</table>\n</div>"
     },
     "execution_count": 14,
     "metadata": {},
     "output_type": "execute_result"
    }
   ],
   "source": [
    "import pandas as pd\n",
    "df = pd.read_excel('sample_measurements.xlsx')\n",
    "df.head()"
   ],
   "metadata": {
    "collapsed": false,
    "pycharm": {
     "name": "#%%\n"
    }
   }
  },
  {
   "cell_type": "markdown",
   "source": [
    "Let's convert the data into a list of quantities"
   ],
   "metadata": {
    "collapsed": false,
    "pycharm": {
     "name": "#%% md\n"
    }
   }
  },
  {
   "cell_type": "code",
   "execution_count": 15,
   "outputs": [
    {
     "name": "stdout",
     "output_type": "stream",
     "text": [
      "V = [292.4 ± 2.924 260.0 ± 2.6 231.4 ± 2.314 201.3 ± 2.013 171.2 ± 1.712\n",
      " 124.0 ± 1.24 96.9 ± 0.969 178.3 ± 1.783 229.8 ± 2.298 289.0 ± 2.89\n",
      " 301.1 ± 3.011 280.6 ± 2.806 152.0 ± 1.52 132.2 ± 1.322 108.4 ± 1.084]\n",
      "r =  [0.04 0.036 0.038 0.034 0.03 0.026 0.022 0.034 0.037 0.039 0.04 0.04 0.028\n",
      " 0.025 0.024]\n"
     ]
    }
   ],
   "source": [
    "volt = df['V']\n",
    "# convert diameter [cm] to radius [m]\n",
    "radius = df['d']/2/100\n",
    "V = create_list_of_quantities(data=volt, err_sys=volt*0.01)\n",
    "r = create_list_of_quantities(data=radius, err_sys=0.5E-3)\n",
    "print('V =', V)\n",
    "print('r = ', r)"
   ],
   "metadata": {
    "collapsed": false,
    "pycharm": {
     "name": "#%%\n"
    }
   }
  },
  {
   "cell_type": "markdown",
   "source": [
    "# Weighted Average\n",
    "\n",
    "When you have a list of quantities each with an individual error, and you want to take the average over them, it makes sense to weigh quantities with large errors less than quantities with little error. This is achieved with the [weighted average](https://en.wikipedia.org/wiki/Weighted_arithmetic_mean#Mathematical_definition).\n",
    "\n",
    "Let's say the voltage and radius data we imported in the previous section represents the radius of the circular trajectory of an electron as a function of applied voltage (see [IE4](https://ap.physik.unibas.ch/PDF/Manuals/English/IE4en.pdf) but meaning of the physical phenomenon is totally irrelevant here it just serves as a good example for weighted average). From each of them you can calculate the specific charge $q_m$ of the electron (which is a constant). Since the voltage error varies we want to take the weighted average over all the resulting specific charges.\n",
    "\n",
    "The formula to get specific charge is:\n",
    "\n",
    "$$\n",
    "q_m = 2 \\frac{V}{(r B)^2}\n",
    "$$\n",
    "\n",
    "And let's assume we also measured the magnetic field $B$. So let's calculate $q_m$."
   ],
   "metadata": {
    "collapsed": false,
    "pycharm": {
     "name": "#%% md\n"
    }
   }
  },
  {
   "cell_type": "code",
   "execution_count": 16,
   "outputs": [
    {
     "name": "stdout",
     "output_type": "stream",
     "text": [
      "[376315485569.938 ± 51751230905.523 391883097528.017 ± 54707534503.7\n",
      " 321784465683.319 ± 44573647993.52 339605330069.721 ± 47948848047.435\n",
      " 381970799760.287 ± 55591167764.712 354567438883.429 ± 53163933219.99\n",
      " 402019693837.069 ± 63382004527.175 314320496583.635 ± 44581345397.207\n",
      " 337066420704.205 ± 46930241729.667 381537774189.58 ± 52593240245.553\n",
      " 368612129686.75 ± 50461440160.851 361129019326.008 ± 49662774938.747\n",
      " 375770585106.037 ± 55348049163.618 424737250051.204 ± 64646882046.872\n",
      " 394150852974.171 ± 60997840165.239]\n"
     ]
    }
   ],
   "source": [
    "B = Quantity(9.98E-4, err_sys=5.1E-5)\n",
    "qm = 2*V/(r*B)**2\n",
    "print(qm)"
   ],
   "metadata": {
    "collapsed": false,
    "pycharm": {
     "name": "#%%\n"
    }
   }
  },
  {
   "cell_type": "markdown",
   "source": [
    "And now take the weighted average"
   ],
   "metadata": {
    "collapsed": false,
    "pycharm": {
     "name": "#%% md\n"
    }
   }
  },
  {
   "cell_type": "code",
   "execution_count": 17,
   "outputs": [
    {
     "data": {
      "text/plain": "3.622 ± 0.135"
     },
     "execution_count": 17,
     "metadata": {},
     "output_type": "execute_result"
    }
   ],
   "source": [
    "qm_weighted = WeightedAverage(qm)\n",
    "# scale down the value by 10^11 as it's huge by nature\n",
    "qm_weighted*1E-11"
   ],
   "metadata": {
    "collapsed": false,
    "pycharm": {
     "name": "#%%\n"
    }
   }
  },
  {
   "cell_type": "markdown",
   "source": [
    "**Note**: Implementation uses the following formulas to compute the weighted average:\n",
    "* Mean: $\\overline x = \\sum \\frac{w_i \\cdot x_i}{w_i}$\n",
    "* Weights: $w_i = \\frac{1}{\\Delta x_i^2}$\n",
    "* Error: $\\Delta x = \\sqrt{\\frac{1}{w_i}}$\n",
    "* $x_i :=$ quantities passed to `WeightedAverage`\n",
    "* $\\Delta x_i :=$ total error (stat + sys) of $x_i$"
   ],
   "metadata": {
    "collapsed": false,
    "pycharm": {
     "name": "#%% md\n"
    }
   }
  },
  {
   "cell_type": "code",
   "execution_count": 17,
   "outputs": [],
   "source": [],
   "metadata": {
    "collapsed": false,
    "pycharm": {
     "name": "#%%\n"
    }
   }
  }
 ],
 "metadata": {
  "kernelspec": {
   "display_name": "Python 3",
   "language": "python",
   "name": "python3"
  },
  "language_info": {
   "codemirror_mode": {
    "name": "ipython",
    "version": 2
   },
   "file_extension": ".py",
   "mimetype": "text/x-python",
   "name": "python",
   "nbconvert_exporter": "python",
   "pygments_lexer": "ipython2",
   "version": "2.7.6"
  }
 },
 "nbformat": 4,
 "nbformat_minor": 0
}